{
 "cells": [
  {
   "cell_type": "code",
   "execution_count": 1,
   "metadata": {},
   "outputs": [],
   "source": [
    "from tensorflow.keras import models, layers, utils, losses, optimizers\n",
    "import numpy as np\n",
    "\n",
    "def load_data(cpath):\n",
    "    a = np.load(cpath)\n",
    "    cdata = a['data']\n",
    "    clabel = a['label']\n",
    "    return cdata, clabel\n",
    "\n",
    "def network():\n",
    "    # 模型建立\n",
    "    # 两层3x3窗口的卷积(卷积核数为32和64)，一层最大池化(MaxPooling2D)\n",
    "    # 再Dropout(随机屏蔽部分神经元)并一维化(Flatten)到128个单元的全连接层(Dense)，最后Dropout输出到36个单元的全连接层（全部字符为36个）\n",
    "    model = models.Sequential()\n",
    "    model.add(layers.Conv2D(32,\n",
    "                            kernel_size=(3, 3),\n",
    "                            activation='relu',\n",
    "                            input_shape=input_shape))\n",
    "    model.add(layers.Conv2D(64, (3, 3), activation='relu'))\n",
    "    model.add(layers.MaxPool2D(pool_size=(2, 2)))\n",
    "    model.add(layers.Dropout(0.25))  # 随机屏蔽部分神经元\n",
    "    model.add(layers.Flatten())  # 一维化\n",
    "    model.add(layers.Dense(128, activation='relu'))\n",
    "    model.add(layers.Dropout(0.5))\n",
    "    model.add(layers.Dense(num_classes, activation='softmax'))\n",
    "\n",
    "    # 模型编译\n",
    "    model.compile(loss=losses.categorical_crossentropy,\n",
    "                  optimizer=optimizers.Adadelta(),\n",
    "                  metrics=['accuracy'])\n",
    "    \n",
    "    return model"
   ]
  },
  {
   "cell_type": "code",
   "execution_count": 2,
   "metadata": {},
   "outputs": [
    {
     "name": "stdout",
     "output_type": "stream",
     "text": [
      "Train on 8560 samples, validate on 500 samples\n",
      "Epoch 1/12\n",
      "8560/8560 [==============================] - 13s 2ms/step - loss: 2.0542 - acc: 0.4089 - val_loss: 0.3615 - val_acc: 0.9160\n",
      "Epoch 2/12\n",
      "8560/8560 [==============================] - 10s 1ms/step - loss: 0.3849 - acc: 0.8797 - val_loss: 0.0512 - val_acc: 0.9940\n",
      "Epoch 3/12\n",
      "8560/8560 [==============================] - 11s 1ms/step - loss: 0.1687 - acc: 0.9514 - val_loss: 0.0236 - val_acc: 0.9960\n",
      "Epoch 4/12\n",
      "8560/8560 [==============================] - 9s 1ms/step - loss: 0.1094 - acc: 0.9703 - val_loss: 0.0123 - val_acc: 0.9980\n",
      "Epoch 5/12\n",
      "8560/8560 [==============================] - 13s 2ms/step - loss: 0.0798 - acc: 0.9790 - val_loss: 0.0103 - val_acc: 0.9960\n",
      "Epoch 6/12\n",
      "8560/8560 [==============================] - 11s 1ms/step - loss: 0.0703 - acc: 0.9825 - val_loss: 0.0098 - val_acc: 0.9980\n",
      "Epoch 7/12\n",
      "8560/8560 [==============================] - 9s 1ms/step - loss: 0.0586 - acc: 0.9863 - val_loss: 0.0051 - val_acc: 0.9980\n",
      "Epoch 8/12\n",
      "8560/8560 [==============================] - 9s 1ms/step - loss: 0.0503 - acc: 0.9886 - val_loss: 0.0110 - val_acc: 0.9960\n",
      "Epoch 9/12\n",
      "8560/8560 [==============================] - 9s 1ms/step - loss: 0.0483 - acc: 0.9891 - val_loss: 0.0084 - val_acc: 0.9980\n",
      "Epoch 10/12\n",
      "8560/8560 [==============================] - 9s 1ms/step - loss: 0.0468 - acc: 0.9887 - val_loss: 0.0062 - val_acc: 0.9980\n",
      "Epoch 11/12\n",
      "8560/8560 [==============================] - 9s 1ms/step - loss: 0.0425 - acc: 0.9909 - val_loss: 0.0128 - val_acc: 0.9960\n",
      "Epoch 12/12\n",
      "8560/8560 [==============================] - 9s 1ms/step - loss: 0.0395 - acc: 0.9903 - val_loss: 0.0022 - val_acc: 1.0000\n"
     ]
    }
   ],
   "source": [
    "import string\n",
    "\n",
    "path = 'train_pictures/data_label.npz'\n",
    "CHRS = string.ascii_lowercase + string.digits  # 小写字母+数字\n",
    "num_classes = len(CHRS)  # 分类数\n",
    "input_shape = (22, 13, 1)\n",
    "batch_size = 128\n",
    "epochs = 12\n",
    "\n",
    "X, Y = load_data(path)\n",
    "Y = utils.to_categorical(Y, num_classes)  # 对Y进行one-hot编码\n",
    "X = X.reshape(X.shape[0], *input_shape)\n",
    "# 简单的切分出训练集和测试集\n",
    "split_point = len(Y) - 500\n",
    "x_train, y_train, x_test, y_test = X[:split_point], Y[:split_point], X[split_point:], Y[split_point:]\n",
    "\n",
    "model = network()\n",
    "history = model.fit(x_train, y_train,\n",
    "                    batch_size=batch_size,\n",
    "                    epochs=epochs,\n",
    "                    verbose=1,\n",
    "                    validation_data=(x_test, y_test))"
   ]
  },
  {
   "cell_type": "code",
   "execution_count": 4,
   "metadata": {},
   "outputs": [
    {
     "data": {
      "image/png": "[encoded data removed]",
      "text/plain": [
       "<Figure size 432x288 with 1 Axes>"
      ]
     },
     "metadata": {
      "needs_background": "light"
     },
     "output_type": "display_data"
    },
    {
     "data": {
      "image/png": "[encoded data removed]",
      "text/plain": [
       "<Figure size 432x288 with 1 Axes>"
      ]
     },
     "metadata": {
      "needs_background": "light"
     },
     "output_type": "display_data"
    }
   ],
   "source": [
    "import matplotlib.pyplot as plt\n",
    "\n",
    "history_dict = history.history\n",
    "loss_values = history_dict['loss']\n",
    "val_loss_values = history_dict['val_loss']\n",
    "\n",
    "epochs = range(1, len(loss_values) + 1)\n",
    "\n",
    "plt.figure(1)\n",
    "plt.plot(epochs, loss_values, 'bo', label='Training loss')\n",
    "plt.plot(epochs, val_loss_values, 'b', label='Validation loss')\n",
    "plt.title('Training and validation loss')\n",
    "plt.xlabel('Epochs')\n",
    "plt.ylabel('Loss')\n",
    "plt.legend()\n",
    "\n",
    "plt.show()\n",
    "\n",
    "acc = history_dict['acc']\n",
    "val_acc = history_dict['val_acc']\n",
    "\n",
    "plt.figure(2)\n",
    "plt.plot(epochs, acc, 'bo', label='Training acc')\n",
    "plt.plot(epochs, val_acc, 'b', label='Validation acc')\n",
    "plt.title('Training and validation accuracy')\n",
    "plt.xlabel('Epochs')\n",
    "plt.ylabel('Accuracy')\n",
    "plt.legend()\n",
    "\n",
    "plt.show()"
   ]
  },
  {
   "cell_type": "code",
   "execution_count": 6,
   "metadata": {},
   "outputs": [],
   "source": [
    "# 保存模型\n",
    "model.save('verification_code_model.h5')"
   ]
  },
  {
   "cell_type": "code",
   "execution_count": 3,
   "metadata": {},
   "outputs": [
    {
     "data": {
      "image/png": "[encoded data removed]",
      "text/plain": [
       "<Figure size 432x288 with 1 Axes>"
      ]
     },
     "metadata": {
      "needs_background": "light"
     },
     "output_type": "display_data"
    },
    {
     "name": "stdout",
     "output_type": "stream",
     "text": [
      "result:  28vh\n"
     ]
    }
   ],
   "source": [
    "# 预测展示\n",
    "from tensorflow.keras.models import load_model\n",
    "import string\n",
    "import numpy as np\n",
    "import cv2\n",
    "import matplotlib.pyplot as plt\n",
    "\n",
    "CHRS = string.ascii_lowercase + string.digits  # 小写字母+数字\n",
    "split_lines = [4, 16, 28, 40, 52]  # 验证码纵向切分的位置\n",
    "y_min, y_max = 0, 22  # 验证码横向切分的位置\n",
    "input_shape = (22, 13, 1)\n",
    "\n",
    "model_path = 'verification_code_model.h5'\n",
    "img_path = '28vh.png'\n",
    "\n",
    "cnn_model = load_model(model_path)\n",
    "\n",
    "image = cv2.imread(img_path)\n",
    "gray_img = cv2.cvtColor(image, cv2.COLOR_BGR2GRAY)  # 灰度化\n",
    "ims = [gray_img[y_min:y_max, u:v + 1] for u, v in zip(split_lines[:-1], split_lines[1:])]  # 切分验证码\n",
    "\n",
    "name = ''\n",
    "for i in range(len(ims)):\n",
    "    test_input = 1.0 * np.array(ims[i])  # 图片转化为矩阵\n",
    "    test_input = test_input.reshape(1, *input_shape)  # reshape多出来一个1因为预测的时候只有一个样本\n",
    "    y_probs = cnn_model.predict(test_input)  # 模型预测, y_probs的形状为(1, 36)\n",
    "    name += CHRS[y_probs[0].argmax(axis=0)]\n",
    "\n",
    "plt.imshow(gray_img, 'gray')\n",
    "plt.show()\n",
    "print('result: ', name)"
   ]
  },
  {
   "cell_type": "code",
   "execution_count": null,
   "metadata": {},
   "outputs": [],
   "source": []
  }
 ],
 "metadata": {
  "kernelspec": {
   "display_name": "Python 3",
   "language": "python",
   "name": "python3"
  },
  "language_info": {
   "codemirror_mode": {
    "name": "ipython",
    "version": 3
   },
   "file_extension": ".py",
   "mimetype": "text/x-python",
   "name": "python",
   "nbconvert_exporter": "python",
   "pygments_lexer": "ipython3",
   "version": "3.6.8"
  }
 },
 "nbformat": 4,
 "nbformat_minor": 2
}
